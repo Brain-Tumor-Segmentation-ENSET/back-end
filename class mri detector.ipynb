{
 "cells": [
  {
   "cell_type": "code",
   "execution_count": 35,
   "metadata": {},
   "outputs": [],
   "source": [
    "import pandas as pd\n",
    "import numpy as np\n",
    "import torch\n",
    "from torch.utils.data import Dataset, DataLoader\n",
    "import glob\n",
    "import matplotlib.pyplot as plt\n",
    "from sklearn.metrics import confusion_matrix, accuracy_score\n",
    "import cv2"
   ]
  },
  {
   "cell_type": "code",
   "execution_count": 36,
   "metadata": {},
   "outputs": [],
   "source": [
    "tumor = []\n",
    "path = \"./brain_tumor_dataset/yes/*.jpg\"  \n",
    "for f in glob.iglob(path):\n",
    "    img = cv2.imread(f)\n",
    "    img = cv2.resize(img,(128,128))\n",
    "    b,g,r = cv2.split(img)\n",
    "    img = cv2.merge([r , g, b])\n",
    "    tumor.append(img)"
   ]
  },
  {
   "cell_type": "code",
   "execution_count": 37,
   "metadata": {},
   "outputs": [
    {
     "data": {
      "text/plain": [
       "155"
      ]
     },
     "execution_count": 37,
     "metadata": {},
     "output_type": "execute_result"
    }
   ],
   "source": [
    "len(tumor)"
   ]
  },
  {
   "cell_type": "code",
   "execution_count": 38,
   "metadata": {},
   "outputs": [],
   "source": [
    "healthy = []\n",
    "path = \"./brain_tumor_dataset/no/*.jpg\"  \n",
    "for f in glob.iglob(path):\n",
    "    img = cv2.imread(f)\n",
    "    img = cv2.resize(img,(128,128))\n",
    "    b,g,r = cv2.split(img)\n",
    "    img = cv2.merge([r , g, b])\n",
    "    healthy.append(img)"
   ]
  },
  {
   "cell_type": "code",
   "execution_count": 41,
   "metadata": {},
   "outputs": [],
   "source": [
    "tumor = np.array(tumor)\n",
    "healthy = np.array(healthy)\n",
    "tumor.shape\n",
    "\n",
    "All = np.concatenate((healthy,tumor))"
   ]
  },
  {
   "cell_type": "code",
   "execution_count": 44,
   "metadata": {},
   "outputs": [
    {
     "data": {
      "text/plain": [
       "array([8, 7, 2, 6, 5])"
      ]
     },
     "execution_count": 44,
     "metadata": {},
     "output_type": "execute_result"
    }
   ],
   "source": [
    "np.random.choice(10,5, replace=False)"
   ]
  }
 ],
 "metadata": {
  "kernelspec": {
   "display_name": "Python 3",
   "language": "python",
   "name": "python3"
  },
  "language_info": {
   "codemirror_mode": {
    "name": "ipython",
    "version": 3
   },
   "file_extension": ".py",
   "mimetype": "text/x-python",
   "name": "python",
   "nbconvert_exporter": "python",
   "pygments_lexer": "ipython3",
   "version": "3.11.4"
  }
 },
 "nbformat": 4,
 "nbformat_minor": 2
}
